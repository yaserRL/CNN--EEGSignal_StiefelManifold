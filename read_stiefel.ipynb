{
 "cells": [
  {
   "cell_type": "code",
   "execution_count": 14,
   "metadata": {},
   "outputs": [],
   "source": [
    "import numpy as np\n",
    "\n",
    "import mne \n",
    "from mne.filter import notch_filter \n",
    "import scipy\n",
    "from scipy.signal import welch\n",
    "from sklearn.preprocessing import LabelEncoder\n",
    "from sklearn.model_selection import train_test_split\n",
    "import scipy\n",
    "from matplotlib import pyplot as plt\n",
    "from scipy import io\n",
    "#from scipy.signal import hilbert\n",
    "from PyEMD import EMD\n",
    "from mne.filter import notch_filter\n",
    "from mne.io import RawArray\n",
    "import os\n",
    "import time\n",
    "\n",
    "import scipy.io as sio\n",
    "#from scipy.fftpack import fft\n",
    "#from IPython.display import display\n",
    "import scipy.stats\n",
    "import scipy.signal as signal\n",
    "#import emd\n",
    "#import umap\n",
    "\n",
    "\n",
    "from sklearn.model_selection import cross_val_score\n",
    "from sklearn.neighbors import KNeighborsClassifier\n"
   ]
  },
  {
   "cell_type": "code",
   "execution_count": 2,
   "metadata": {},
   "outputs": [],
   "source": [
    "info=mne.create_info(ch_names=['Fp1','Fp2','F7','F3','Fz','F4','F8','FC5','FC1','FC2','FC6','T7','C3','Cz','C4','T8','TP9','CP5','CP1',\t'CP2','CP6','TP10',\t'P7','P3','Pz','P4','P8','PO9','O1','Oz','O2','PO10','AF7',\t'AF3','AF4'\t,'AF8','F5','F1','F2','F6','FT9','FT7','FC3','FC4','FT8','FT10','C5','C1','C2','C6','TP7','CP3','CPz','CP4','TP8','P5','P1'\t,'P2','P6','PO7','PO3','POz','PO4','PO8'],ch_types=['eeg','eeg','eeg','eeg','eeg','eeg','eeg','eeg','eeg','eeg','eeg','eeg','eeg','eeg','eeg','eeg','eeg','eeg','eeg','eeg','eeg','eeg','eeg','eeg','eeg','eeg','eeg','eeg','eeg','eeg','eeg','eeg','eeg','eeg','eeg','eeg','eeg','eeg','eeg','eeg','eeg','eeg','eeg','eeg','eeg','eeg','eeg','eeg','eeg','eeg','eeg','eeg','eeg','eeg','eeg','eeg','eeg','eeg','eeg','eeg','eeg','eeg','eeg','eeg'],sfreq=256)"
   ]
  },
  {
   "cell_type": "code",
   "execution_count": 15,
   "metadata": {},
   "outputs": [],
   "source": [
    "channel_names=['Fp1','Fp2','F7','F3','Fz','F4','F8','FC5','FC1','FC2','FC6','T7','C3','Cz','C4','T8','TP9','CP5','CP1',\t'CP2','CP6','TP10',\t'P7','P3','Pz','P4','P8','PO9','O1','Oz','O2','PO10','AF7',\t'AF3','AF4'\t,'AF8','F5','F1','F2','F6','FT9','FT7','FC3','FC4','FT8','FT10','C5','C1','C2','C6','TP7','CP3','CPz','CP4','TP8','P5','P1'\t,'P2','P6','PO7','PO3','POz','PO4','PO8']"
   ]
  },
  {
   "cell_type": "code",
   "execution_count": 16,
   "metadata": {},
   "outputs": [],
   "source": [
    "raw_train=scipy.io.loadmat(file_name=\"Training set/Data_Sample02.mat\")\n",
    "data_trian=raw_train['epo_train']['x'][0][0].T\n",
    "labels_train=raw_train['epo_train']['y'][0][0].T\n"
   ]
  },
  {
   "cell_type": "code",
   "execution_count": 17,
   "metadata": {},
   "outputs": [
    {
     "name": "stdout",
     "output_type": "stream",
     "text": [
      "[[[   3.34011567    4.87554656    7.90155925 ...   11.90456149\n",
      "      7.7429604     9.41137374]\n",
      "  [ -49.70632335  -52.91785048  -52.19614011 ...  -51.60608241\n",
      "    -52.44848471  -51.72826057]\n",
      "  [  42.19489339   42.79526401   43.07817541 ...   33.25770425\n",
      "     29.13871762   29.4118609 ]\n",
      "  ...\n",
      "  [  84.81811619   80.22064318   79.32297171 ...   43.50416591\n",
      "     38.58229885   33.155235  ]\n",
      "  [  84.92943996   81.33229497   81.50170023 ...   29.91520892\n",
      "     20.5737816    13.65006874]\n",
      "  [  66.59455206   59.44068056   61.48620698 ...   12.10295205\n",
      "      3.98469841   -1.4238599 ]]\n",
      "\n",
      " [[-116.15910192 -119.92348595 -116.2878327  ...  -48.07961928\n",
      "    -46.29742664  -51.41103335]\n",
      "  [-118.75590746 -122.61234641 -115.17455678 ...  -46.26509302\n",
      "    -42.94746981  -45.30567643]\n",
      "  [   9.11887397    7.29530716    7.50158832 ...    4.47540373\n",
      "      7.34290685    5.202734  ]\n",
      "  ...\n",
      "  [ 125.54464123  128.62603465  122.962473   ...   56.62880571\n",
      "     59.38000728   62.32941001]\n",
      "  [ 177.70671182  179.04544354  173.07676705 ...   97.08133906\n",
      "    100.89133064  104.7474079 ]\n",
      "  [ 124.34766592  128.58134701  124.75302537 ...   32.69998654\n",
      "     37.13346507   40.37996031]]\n",
      "\n",
      " [[-183.5110286  -181.24437741 -181.80013942 ...  -64.15472127\n",
      "    -68.90512485  -66.45525267]\n",
      "  [  77.43935048   76.70596689   79.53698943 ...  146.05344212\n",
      "    144.43876505  146.27353464]\n",
      "  [  39.85976899   42.06851108   42.86944026 ...   51.58524528\n",
      "     45.48120379   45.26490219]\n",
      "  ...\n",
      "  [  32.8216213    33.37521971   36.55365129 ...   43.20319852\n",
      "     36.88076207   34.38609401]\n",
      "  [ -17.59270116  -20.7613127   -16.02889778 ...   58.61641785\n",
      "     50.76270979   47.87703846]\n",
      "  [ -19.67725427  -23.19666822  -20.96517996 ...  -21.51246266\n",
      "    -28.59079709  -33.47911715]]\n",
      "\n",
      " ...\n",
      "\n",
      " [[  83.27538125   75.21710654   73.47835217 ...  -18.95037551\n",
      "    -18.4171999   -23.47883551]\n",
      "  [ 157.11651819  151.54404177  152.20271815 ...  -27.79184412\n",
      "    -24.60430696  -28.32868006]\n",
      "  [ -23.52476567  -28.93927653  -32.41799003 ...   64.0314227\n",
      "     68.60359071   63.67004453]\n",
      "  ...\n",
      "  [  85.40672883   77.3475733    72.80124363 ...   90.50658266\n",
      "     96.34270238   94.19723589]\n",
      "  [  47.13190914   36.3464273    29.28595236 ...  106.9269969\n",
      "    115.08255553  112.24479414]\n",
      "  [  67.67628548   57.35400783   50.49070686 ...   53.67705738\n",
      "     62.71834351   58.44454011]]\n",
      "\n",
      " [[  37.77911546   33.21032902   25.37043013 ...    6.88493042\n",
      "      4.66753755    1.20620145]\n",
      "  [   5.54707328   -0.41151966   -6.61045994 ...    5.80398872\n",
      "      6.40094318    4.94715529]\n",
      "  [  32.98173868   31.53676907   27.74738104 ...   25.3645133\n",
      "     17.5007296    13.67531262]\n",
      "  ...\n",
      "  [  29.73976534   32.48521165   33.14415763 ...   14.14486848\n",
      "     12.42387329   11.94392247]\n",
      "  [   4.11052356    5.78044879   10.89064119 ...  -39.52631576\n",
      "    -40.76975581  -40.33106191]\n",
      "  [ -16.68266139  -14.88597288   -9.52964937 ...  -56.84841049\n",
      "    -57.03023461  -56.96872807]]\n",
      "\n",
      " [[   2.79967984   -0.26486689   -1.59005887 ...   46.87318469\n",
      "     41.80143957   41.7526402 ]\n",
      "  [  -2.35518999   -6.84980953   -5.49742294 ...   46.60326202\n",
      "     39.37314782   40.76065071]\n",
      "  [  45.83471694   41.36152014   42.30414375 ...   66.53507549\n",
      "     61.68271784   60.29665096]\n",
      "  ...\n",
      "  [  71.33250934   74.65260739   78.60472417 ...  104.83332268\n",
      "    104.76099505  108.84573883]\n",
      "  [  68.15868379   71.04708332   75.49743477 ...  151.24955825\n",
      "    152.23692994  154.85531766]\n",
      "  [  94.58012032   95.82978749  101.52693939 ...   98.66501809\n",
      "     97.37269535   94.69183003]]]\n"
     ]
    }
   ],
   "source": [
    "print(data_trian)"
   ]
  },
  {
   "cell_type": "code",
   "execution_count": 18,
   "metadata": {},
   "outputs": [],
   "source": [
    "label_train = np.argmax(labels_train, axis=1)"
   ]
  },
  {
   "cell_type": "code",
   "execution_count": 19,
   "metadata": {},
   "outputs": [
    {
     "data": {
      "text/plain": [
       "(300,)"
      ]
     },
     "execution_count": 19,
     "metadata": {},
     "output_type": "execute_result"
    }
   ],
   "source": [
    "label_train.shape"
   ]
  },
  {
   "cell_type": "code",
   "execution_count": 20,
   "metadata": {},
   "outputs": [],
   "source": [
    "class_name=raw_train['epo_train']['className']"
   ]
  },
  {
   "cell_type": "code",
   "execution_count": 21,
   "metadata": {},
   "outputs": [
    {
     "name": "stdout",
     "output_type": "stream",
     "text": [
      "Setting up band-stop filter\n",
      "\n",
      "FIR filter parameters\n",
      "---------------------\n",
      "Designing a one-pass, zero-phase, non-causal bandstop filter:\n",
      "- Windowed time-domain design (firwin) method\n",
      "- Hamming window with 0.0194 passband ripple and 53 dB stopband attenuation\n",
      "- Lower transition bandwidth: 0.50 Hz\n",
      "- Upper transition bandwidth: 0.50 Hz\n",
      "- Filter length: 1691 samples (6.605 s)\n",
      "\n"
     ]
    },
    {
     "name": "stderr",
     "output_type": "stream",
     "text": [
      "C:\\Users\\Lenovo\\AppData\\Local\\Temp\\ipykernel_11816\\2816342891.py:3: RuntimeWarning: filter_length (1691) is longer than the signal (795), distortion is likely. Reduce filter length or filter a longer signal.\n",
      "  raw_data_notch_filtered = mne.filter.notch_filter(data_trian,Fs=sfreq, freqs=freqs)\n",
      "[Parallel(n_jobs=1)]: Done  17 tasks      | elapsed:    0.0s\n",
      "[Parallel(n_jobs=1)]: Done  71 tasks      | elapsed:    0.0s\n",
      "[Parallel(n_jobs=1)]: Done 161 tasks      | elapsed:    0.0s\n",
      "[Parallel(n_jobs=1)]: Done 287 tasks      | elapsed:    0.0s\n",
      "[Parallel(n_jobs=1)]: Done 449 tasks      | elapsed:    0.0s\n",
      "[Parallel(n_jobs=1)]: Done 647 tasks      | elapsed:    0.1s\n",
      "[Parallel(n_jobs=1)]: Done 881 tasks      | elapsed:    0.1s\n",
      "[Parallel(n_jobs=1)]: Done 1151 tasks      | elapsed:    0.2s\n",
      "[Parallel(n_jobs=1)]: Done 1457 tasks      | elapsed:    0.2s\n",
      "[Parallel(n_jobs=1)]: Done 1799 tasks      | elapsed:    0.3s\n",
      "[Parallel(n_jobs=1)]: Done 2177 tasks      | elapsed:    0.4s\n",
      "[Parallel(n_jobs=1)]: Done 2591 tasks      | elapsed:    0.5s\n",
      "[Parallel(n_jobs=1)]: Done 3041 tasks      | elapsed:    0.6s\n",
      "[Parallel(n_jobs=1)]: Done 3527 tasks      | elapsed:    0.7s\n",
      "[Parallel(n_jobs=1)]: Done 4049 tasks      | elapsed:    0.8s\n",
      "[Parallel(n_jobs=1)]: Done 4607 tasks      | elapsed:    0.9s\n",
      "[Parallel(n_jobs=1)]: Done 5201 tasks      | elapsed:    1.0s\n",
      "[Parallel(n_jobs=1)]: Done 5831 tasks      | elapsed:    1.2s\n",
      "[Parallel(n_jobs=1)]: Done 6497 tasks      | elapsed:    1.4s\n",
      "[Parallel(n_jobs=1)]: Done 7199 tasks      | elapsed:    1.8s\n",
      "[Parallel(n_jobs=1)]: Done 7937 tasks      | elapsed:    2.1s\n",
      "[Parallel(n_jobs=1)]: Done 8711 tasks      | elapsed:    2.4s\n",
      "[Parallel(n_jobs=1)]: Done 9521 tasks      | elapsed:    2.8s\n",
      "[Parallel(n_jobs=1)]: Done 10367 tasks      | elapsed:    3.2s\n",
      "[Parallel(n_jobs=1)]: Done 11249 tasks      | elapsed:    3.6s\n",
      "[Parallel(n_jobs=1)]: Done 12167 tasks      | elapsed:    4.1s\n",
      "[Parallel(n_jobs=1)]: Done 13121 tasks      | elapsed:    4.6s\n",
      "[Parallel(n_jobs=1)]: Done 14111 tasks      | elapsed:    5.1s\n",
      "[Parallel(n_jobs=1)]: Done 15137 tasks      | elapsed:    5.6s\n",
      "[Parallel(n_jobs=1)]: Done 16199 tasks      | elapsed:    6.1s\n",
      "[Parallel(n_jobs=1)]: Done 17297 tasks      | elapsed:    6.6s\n",
      "[Parallel(n_jobs=1)]: Done 18431 tasks      | elapsed:    7.1s\n"
     ]
    }
   ],
   "source": [
    "sfreq=256 \n",
    "freqs = [50,60]\n",
    "raw_data_notch_filtered = mne.filter.notch_filter(data_trian,Fs=sfreq, freqs=freqs)"
   ]
  },
  {
   "cell_type": "code",
   "execution_count": 22,
   "metadata": {},
   "outputs": [],
   "source": [
    "trials=np.array(raw_data_notch_filtered)"
   ]
  },
  {
   "cell_type": "code",
   "execution_count": 23,
   "metadata": {},
   "outputs": [
    {
     "data": {
      "text/plain": [
       "(300, 64, 795)"
      ]
     },
     "execution_count": 23,
     "metadata": {},
     "output_type": "execute_result"
    }
   ],
   "source": [
    "trials.shape"
   ]
  },
  {
   "cell_type": "code",
   "execution_count": 25,
   "metadata": {},
   "outputs": [],
   "source": [
    "selectedـchannels= ['FC1', 'P3', 'FC3', 'PO9', 'PO10', 'Cz', 'POz', 'PO8', 'CPz', 'FC4', 'C6', 'CP3', 'P7', 'P5', 'P6', 'CP6', 'C1', 'TP8', 'PO7', 'T8', 'CP2', 'F1', 'P2', 'PO4', 'Fp1', 'FC5', 'O1', 'C3']"
   ]
  },
  {
   "cell_type": "code",
   "execution_count": 26,
   "metadata": {},
   "outputs": [],
   "source": [
    "# ایندکس کانال‌های انتخابی\n",
    "selected_indices = [channel_names.index(ch) for ch in selectedـchannels]\n",
    "\n",
    "# استخراج کانال‌های انتخابی برای سابجکت\n",
    "reduced_data = trials[:, selected_indices, :]"
   ]
  },
  {
   "cell_type": "code",
   "execution_count": 27,
   "metadata": {},
   "outputs": [
    {
     "data": {
      "text/plain": [
       "(300, 28, 795)"
      ]
     },
     "execution_count": 27,
     "metadata": {},
     "output_type": "execute_result"
    }
   ],
   "source": [
    "reduced_data.shape"
   ]
  },
  {
   "cell_type": "code",
   "execution_count": 28,
   "metadata": {},
   "outputs": [],
   "source": [
    "n_trials = 300\n",
    "#n_channels = 64\n",
    "n_samples = 795"
   ]
  },
  {
   "cell_type": "code",
   "execution_count": 29,
   "metadata": {},
   "outputs": [],
   "source": [
    "# Step 1: Transpose each trial matrix\n",
    "transposed_data = reduced_data.transpose(0, 2, 1)  # New shape: (n_trials, n_samples, n_channels)\n"
   ]
  },
  {
   "cell_type": "code",
   "execution_count": 30,
   "metadata": {},
   "outputs": [],
   "source": [
    "from geomstats.geometry.stiefel import Stiefel\n",
    "from geomstats.learning.frechet_mean import FrechetMean\n"
   ]
  },
  {
   "cell_type": "code",
   "execution_count": 31,
   "metadata": {},
   "outputs": [],
   "source": [
    "# Step 2: Define the Stiefel manifold\n",
    "stiefel_manifold = Stiefel(n_samples, 28)  # Stiefel(795, 32)\n"
   ]
  },
  {
   "cell_type": "code",
   "execution_count": 32,
   "metadata": {},
   "outputs": [],
   "source": [
    "# Step 3: Project data to Stiefel manifold using QR decomposition\n",
    "def project_to_stiefel(data):\n",
    "    stiefel_data = []\n",
    "    for trial in data:\n",
    "        Q, R = np.linalg.qr(trial)  # QR decomposition works on (795 x 64)\n",
    "        stiefel_data.append(Q)\n",
    "    return np.array(stiefel_data)"
   ]
  },
  {
   "cell_type": "code",
   "execution_count": 33,
   "metadata": {},
   "outputs": [],
   "source": [
    "stiefel_matrices = project_to_stiefel(transposed_data)\n"
   ]
  },
  {
   "cell_type": "code",
   "execution_count": 34,
   "metadata": {},
   "outputs": [
    {
     "name": "stdout",
     "output_type": "stream",
     "text": [
      "Deviation from orthonormality: 2.2837278203844014e-15\n",
      "Deviation from orthonormality: 1.776779643734386e-15\n",
      "Deviation from orthonormality: 2.101434680986658e-15\n",
      "Deviation from orthonormality: 2.3743386893179663e-15\n",
      "Deviation from orthonormality: 2.080998358227675e-15\n",
      "Deviation from orthonormality: 2.1113498288540185e-15\n",
      "Deviation from orthonormality: 2.0948824002899697e-15\n",
      "Deviation from orthonormality: 2.2487349587091593e-15\n",
      "Deviation from orthonormality: 1.896759693637566e-15\n",
      "Deviation from orthonormality: 2.0439780348986236e-15\n",
      "Deviation from orthonormality: 2.2625002617581043e-15\n",
      "Deviation from orthonormality: 2.1409009189728652e-15\n",
      "Deviation from orthonormality: 2.5185040022020333e-15\n",
      "Deviation from orthonormality: 2.2842913052841915e-15\n",
      "Deviation from orthonormality: 1.898365195104504e-15\n",
      "Deviation from orthonormality: 2.3309009928915964e-15\n",
      "Deviation from orthonormality: 2.0276744659139427e-15\n",
      "Deviation from orthonormality: 2.192108039900026e-15\n",
      "Deviation from orthonormality: 2.4020827788083006e-15\n",
      "Deviation from orthonormality: 2.1276660121275378e-15\n",
      "Deviation from orthonormality: 2.2521561749758303e-15\n",
      "Deviation from orthonormality: 2.18366313291867e-15\n",
      "Deviation from orthonormality: 1.9471731335297746e-15\n",
      "Deviation from orthonormality: 2.4316236514216433e-15\n",
      "Deviation from orthonormality: 2.3515757525278604e-15\n",
      "Deviation from orthonormality: 1.94060537156328e-15\n",
      "Deviation from orthonormality: 2.435110867769845e-15\n",
      "Deviation from orthonormality: 1.82451349892579e-15\n",
      "Deviation from orthonormality: 2.090420722119212e-15\n",
      "Deviation from orthonormality: 2.351144365688392e-15\n",
      "Deviation from orthonormality: 2.1354092081356806e-15\n",
      "Deviation from orthonormality: 2.0399914376567423e-15\n",
      "Deviation from orthonormality: 2.048498938723712e-15\n",
      "Deviation from orthonormality: 2.1647698982194016e-15\n",
      "Deviation from orthonormality: 1.9943250217636196e-15\n",
      "Deviation from orthonormality: 2.1158872323400248e-15\n",
      "Deviation from orthonormality: 2.342728650235906e-15\n",
      "Deviation from orthonormality: 2.1127231959172377e-15\n",
      "Deviation from orthonormality: 1.8893158673270557e-15\n",
      "Deviation from orthonormality: 2.628259648259075e-15\n",
      "Deviation from orthonormality: 2.235104408385256e-15\n",
      "Deviation from orthonormality: 1.902492204641395e-15\n",
      "Deviation from orthonormality: 2.354589709929419e-15\n",
      "Deviation from orthonormality: 2.241845438438547e-15\n",
      "Deviation from orthonormality: 1.9382895311572864e-15\n",
      "Deviation from orthonormality: 2.169374210789487e-15\n",
      "Deviation from orthonormality: 2.060891068976407e-15\n",
      "Deviation from orthonormality: 1.896703726964505e-15\n",
      "Deviation from orthonormality: 1.8126970556828622e-15\n",
      "Deviation from orthonormality: 1.932544879906867e-15\n",
      "Deviation from orthonormality: 1.7014787397687277e-15\n",
      "Deviation from orthonormality: 2.3042581854638704e-15\n",
      "Deviation from orthonormality: 2.072680545883103e-15\n",
      "Deviation from orthonormality: 2.367713636474804e-15\n",
      "Deviation from orthonormality: 2.2113679695620862e-15\n",
      "Deviation from orthonormality: 2.1687164539081985e-15\n",
      "Deviation from orthonormality: 2.2762156403679213e-15\n",
      "Deviation from orthonormality: 2.32316611198626e-15\n",
      "Deviation from orthonormality: 2.1750869946486928e-15\n",
      "Deviation from orthonormality: 1.8440658076988706e-15\n",
      "Deviation from orthonormality: 1.7463345681441648e-15\n",
      "Deviation from orthonormality: 1.6482543801234208e-15\n",
      "Deviation from orthonormality: 1.9551398638446687e-15\n",
      "Deviation from orthonormality: 2.4367004041817795e-15\n",
      "Deviation from orthonormality: 1.8766864832761472e-15\n",
      "Deviation from orthonormality: 2.205882862805005e-15\n",
      "Deviation from orthonormality: 2.0377947956855385e-15\n",
      "Deviation from orthonormality: 1.9826870712162267e-15\n",
      "Deviation from orthonormality: 2.1975970860486882e-15\n",
      "Deviation from orthonormality: 2.4246429492075996e-15\n",
      "Deviation from orthonormality: 2.4673247884900713e-15\n",
      "Deviation from orthonormality: 1.912162501632608e-15\n",
      "Deviation from orthonormality: 2.1493208264277134e-15\n",
      "Deviation from orthonormality: 2.2781396107385226e-15\n",
      "Deviation from orthonormality: 2.385172117180025e-15\n",
      "Deviation from orthonormality: 1.7260246738677497e-15\n",
      "Deviation from orthonormality: 2.4544039423484467e-15\n",
      "Deviation from orthonormality: 2.3149664084426254e-15\n",
      "Deviation from orthonormality: 2.3288531800396617e-15\n",
      "Deviation from orthonormality: 1.8077035314733377e-15\n",
      "Deviation from orthonormality: 2.5549846988088716e-15\n",
      "Deviation from orthonormality: 2.1548720057864386e-15\n",
      "Deviation from orthonormality: 1.994349014890026e-15\n",
      "Deviation from orthonormality: 2.0178595223140636e-15\n",
      "Deviation from orthonormality: 2.398862922287331e-15\n",
      "Deviation from orthonormality: 1.9596318747880996e-15\n",
      "Deviation from orthonormality: 2.0690886837203257e-15\n",
      "Deviation from orthonormality: 2.9709316737091503e-15\n",
      "Deviation from orthonormality: 1.9921071012722994e-15\n",
      "Deviation from orthonormality: 1.8085642637773456e-15\n",
      "Deviation from orthonormality: 2.1177958143214646e-15\n",
      "Deviation from orthonormality: 2.4094725759781146e-15\n",
      "Deviation from orthonormality: 1.99525698541351e-15\n",
      "Deviation from orthonormality: 2.2336458092572215e-15\n",
      "Deviation from orthonormality: 2.517971406821274e-15\n",
      "Deviation from orthonormality: 1.944557554557308e-15\n",
      "Deviation from orthonormality: 2.000890137087844e-15\n",
      "Deviation from orthonormality: 1.9919085640371486e-15\n",
      "Deviation from orthonormality: 1.9113455046080606e-15\n",
      "Deviation from orthonormality: 2.166460489885958e-15\n",
      "Deviation from orthonormality: 2.574089582946304e-15\n",
      "Deviation from orthonormality: 2.1562154667775353e-15\n",
      "Deviation from orthonormality: 2.5137292170940728e-15\n",
      "Deviation from orthonormality: 1.419152515074804e-15\n",
      "Deviation from orthonormality: 1.8435405099592576e-15\n",
      "Deviation from orthonormality: 2.2550538073173317e-15\n",
      "Deviation from orthonormality: 2.1253269855278504e-15\n",
      "Deviation from orthonormality: 2.3207674027493768e-15\n",
      "Deviation from orthonormality: 2.2879079492722136e-15\n",
      "Deviation from orthonormality: 2.1290386921072102e-15\n",
      "Deviation from orthonormality: 2.189834902496314e-15\n",
      "Deviation from orthonormality: 2.1706577974791445e-15\n",
      "Deviation from orthonormality: 2.0883446513795602e-15\n",
      "Deviation from orthonormality: 2.7073101301184772e-15\n",
      "Deviation from orthonormality: 2.2501792227674786e-15\n",
      "Deviation from orthonormality: 2.4688318258928746e-15\n",
      "Deviation from orthonormality: 2.088667521529463e-15\n",
      "Deviation from orthonormality: 2.134225279283165e-15\n",
      "Deviation from orthonormality: 2.6702470856010403e-15\n",
      "Deviation from orthonormality: 1.8861564584251537e-15\n",
      "Deviation from orthonormality: 1.9226617472720457e-15\n",
      "Deviation from orthonormality: 1.800672271376051e-15\n",
      "Deviation from orthonormality: 2.1024994419624255e-15\n",
      "Deviation from orthonormality: 2.0447514809944275e-15\n",
      "Deviation from orthonormality: 2.597671007885335e-15\n",
      "Deviation from orthonormality: 2.061507473949927e-15\n",
      "Deviation from orthonormality: 2.1893461544384185e-15\n",
      "Deviation from orthonormality: 2.2117958537021705e-15\n",
      "Deviation from orthonormality: 2.1809272966001714e-15\n",
      "Deviation from orthonormality: 1.983682736744091e-15\n",
      "Deviation from orthonormality: 2.1286081341773408e-15\n",
      "Deviation from orthonormality: 1.7432082853886336e-15\n",
      "Deviation from orthonormality: 2.236001108094282e-15\n",
      "Deviation from orthonormality: 1.9448475114063182e-15\n",
      "Deviation from orthonormality: 2.338795545885735e-15\n",
      "Deviation from orthonormality: 2.205144923209589e-15\n",
      "Deviation from orthonormality: 1.897783009465775e-15\n",
      "Deviation from orthonormality: 2.17014056584042e-15\n",
      "Deviation from orthonormality: 2.5973312877440165e-15\n",
      "Deviation from orthonormality: 1.870813027016672e-15\n",
      "Deviation from orthonormality: 2.1510769319076353e-15\n",
      "Deviation from orthonormality: 1.9675187625560816e-15\n",
      "Deviation from orthonormality: 1.8922508626436636e-15\n",
      "Deviation from orthonormality: 1.8489782201581676e-15\n",
      "Deviation from orthonormality: 2.090792265024464e-15\n",
      "Deviation from orthonormality: 1.827888127852251e-15\n",
      "Deviation from orthonormality: 2.0561825927494253e-15\n",
      "Deviation from orthonormality: 1.780250848774681e-15\n",
      "Deviation from orthonormality: 1.7938248521652725e-15\n",
      "Deviation from orthonormality: 1.833013623658251e-15\n",
      "Deviation from orthonormality: 1.976068361925656e-15\n",
      "Deviation from orthonormality: 2.2377172499590365e-15\n",
      "Deviation from orthonormality: 2.1804494038522313e-15\n",
      "Deviation from orthonormality: 1.811541267937165e-15\n",
      "Deviation from orthonormality: 2.3076473096676332e-15\n",
      "Deviation from orthonormality: 2.139521347549099e-15\n",
      "Deviation from orthonormality: 1.99039933026744e-15\n",
      "Deviation from orthonormality: 1.8415032933096015e-15\n",
      "Deviation from orthonormality: 1.8580229890342288e-15\n",
      "Deviation from orthonormality: 1.9756749754177814e-15\n",
      "Deviation from orthonormality: 1.7356328214257833e-15\n",
      "Deviation from orthonormality: 1.6953884736459844e-15\n",
      "Deviation from orthonormality: 2.113964249701071e-15\n",
      "Deviation from orthonormality: 1.9687541297787446e-15\n",
      "Deviation from orthonormality: 2.256091095482395e-15\n",
      "Deviation from orthonormality: 2.133508388219467e-15\n",
      "Deviation from orthonormality: 1.703409361780045e-15\n",
      "Deviation from orthonormality: 2.020555338208806e-15\n",
      "Deviation from orthonormality: 2.355606836246091e-15\n",
      "Deviation from orthonormality: 1.7853960015289967e-15\n",
      "Deviation from orthonormality: 2.417795136796761e-15\n",
      "Deviation from orthonormality: 2.0991630749816836e-15\n",
      "Deviation from orthonormality: 2.3070773491701157e-15\n",
      "Deviation from orthonormality: 1.9776366987969517e-15\n",
      "Deviation from orthonormality: 2.0367890857182053e-15\n",
      "Deviation from orthonormality: 1.8991285543190793e-15\n",
      "Deviation from orthonormality: 1.9979404546517067e-15\n",
      "Deviation from orthonormality: 2.4155609028781077e-15\n",
      "Deviation from orthonormality: 2.02491002818593e-15\n",
      "Deviation from orthonormality: 1.862243887695338e-15\n",
      "Deviation from orthonormality: 2.1453063901320936e-15\n",
      "Deviation from orthonormality: 1.941078421474718e-15\n",
      "Deviation from orthonormality: 2.0978556493363204e-15\n",
      "Deviation from orthonormality: 2.040805035143408e-15\n",
      "Deviation from orthonormality: 1.8099630464237955e-15\n",
      "Deviation from orthonormality: 1.8374686906768033e-15\n",
      "Deviation from orthonormality: 2.538518163114981e-15\n",
      "Deviation from orthonormality: 2.2451002984246267e-15\n",
      "Deviation from orthonormality: 1.9245357434809177e-15\n",
      "Deviation from orthonormality: 2.0491268282056937e-15\n",
      "Deviation from orthonormality: 2.261183543372024e-15\n",
      "Deviation from orthonormality: 1.869090359534969e-15\n",
      "Deviation from orthonormality: 1.9555720567587086e-15\n",
      "Deviation from orthonormality: 2.196052861308994e-15\n",
      "Deviation from orthonormality: 2.048213777873448e-15\n",
      "Deviation from orthonormality: 2.025153782930096e-15\n",
      "Deviation from orthonormality: 2.3828275131026276e-15\n",
      "Deviation from orthonormality: 2.4059052212052976e-15\n",
      "Deviation from orthonormality: 1.7665643663525208e-15\n",
      "Deviation from orthonormality: 1.7577133211275442e-15\n",
      "Deviation from orthonormality: 1.972666615129748e-15\n",
      "Deviation from orthonormality: 2.551478671812751e-15\n",
      "Deviation from orthonormality: 2.125926522368723e-15\n",
      "Deviation from orthonormality: 1.620776050138215e-15\n",
      "Deviation from orthonormality: 2.2025975709927534e-15\n",
      "Deviation from orthonormality: 2.0147593379933577e-15\n",
      "Deviation from orthonormality: 2.41113390433163e-15\n",
      "Deviation from orthonormality: 2.1682779444100427e-15\n",
      "Deviation from orthonormality: 2.0062853895891732e-15\n",
      "Deviation from orthonormality: 2.1908810704491585e-15\n",
      "Deviation from orthonormality: 1.9955632048883938e-15\n",
      "Deviation from orthonormality: 2.5592988692068163e-15\n",
      "Deviation from orthonormality: 2.734415674122346e-15\n",
      "Deviation from orthonormality: 1.7362929323980071e-15\n",
      "Deviation from orthonormality: 2.2373997041030613e-15\n",
      "Deviation from orthonormality: 2.348701203664469e-15\n",
      "Deviation from orthonormality: 2.044929862139145e-15\n",
      "Deviation from orthonormality: 1.953953061978615e-15\n",
      "Deviation from orthonormality: 2.0755653057530107e-15\n",
      "Deviation from orthonormality: 2.365578998659704e-15\n",
      "Deviation from orthonormality: 2.3421446412890238e-15\n",
      "Deviation from orthonormality: 2.293136587115021e-15\n",
      "Deviation from orthonormality: 2.336599348482595e-15\n",
      "Deviation from orthonormality: 2.046738343696537e-15\n",
      "Deviation from orthonormality: 1.9525763729759625e-15\n",
      "Deviation from orthonormality: 2.0867742743732668e-15\n",
      "Deviation from orthonormality: 2.0964980551766733e-15\n",
      "Deviation from orthonormality: 2.0127638675269456e-15\n",
      "Deviation from orthonormality: 2.477359800000723e-15\n",
      "Deviation from orthonormality: 2.2448651780912885e-15\n",
      "Deviation from orthonormality: 2.190916740691549e-15\n",
      "Deviation from orthonormality: 2.1815289322656487e-15\n",
      "Deviation from orthonormality: 2.139431055468811e-15\n",
      "Deviation from orthonormality: 2.091865611286206e-15\n",
      "Deviation from orthonormality: 2.143962092318241e-15\n",
      "Deviation from orthonormality: 2.2692316496092122e-15\n",
      "Deviation from orthonormality: 2.060623633913733e-15\n",
      "Deviation from orthonormality: 2.18491802776247e-15\n",
      "Deviation from orthonormality: 2.167863804254876e-15\n",
      "Deviation from orthonormality: 2.2265279767096066e-15\n",
      "Deviation from orthonormality: 2.330548841443133e-15\n",
      "Deviation from orthonormality: 2.2366613955504234e-15\n",
      "Deviation from orthonormality: 1.8662447871039406e-15\n",
      "Deviation from orthonormality: 2.1619282088438943e-15\n",
      "Deviation from orthonormality: 2.113106269589676e-15\n",
      "Deviation from orthonormality: 2.0605088361471704e-15\n",
      "Deviation from orthonormality: 1.731326611703633e-15\n",
      "Deviation from orthonormality: 2.051229890293414e-15\n",
      "Deviation from orthonormality: 2.2135442346333084e-15\n",
      "Deviation from orthonormality: 2.5867248091160603e-15\n",
      "Deviation from orthonormality: 2.213692505412466e-15\n",
      "Deviation from orthonormality: 2.023363421517446e-15\n",
      "Deviation from orthonormality: 1.968832935212456e-15\n",
      "Deviation from orthonormality: 2.0295931836548345e-15\n",
      "Deviation from orthonormality: 1.8878459618266118e-15\n",
      "Deviation from orthonormality: 2.0895794284838804e-15\n",
      "Deviation from orthonormality: 2.4298685201774957e-15\n",
      "Deviation from orthonormality: 2.2788400416031868e-15\n",
      "Deviation from orthonormality: 1.950363980486667e-15\n",
      "Deviation from orthonormality: 2.0977835569128825e-15\n",
      "Deviation from orthonormality: 2.3775232234490042e-15\n",
      "Deviation from orthonormality: 2.1702264691798284e-15\n",
      "Deviation from orthonormality: 2.3098195698206957e-15\n",
      "Deviation from orthonormality: 2.2661047809924645e-15\n",
      "Deviation from orthonormality: 1.82020442356682e-15\n",
      "Deviation from orthonormality: 2.2939664521118646e-15\n",
      "Deviation from orthonormality: 1.9293877150551394e-15\n",
      "Deviation from orthonormality: 1.8729393159379885e-15\n",
      "Deviation from orthonormality: 2.344871082267487e-15\n",
      "Deviation from orthonormality: 2.1994248369811797e-15\n",
      "Deviation from orthonormality: 1.8573454774886788e-15\n",
      "Deviation from orthonormality: 2.025779701702526e-15\n",
      "Deviation from orthonormality: 2.0964750386181273e-15\n",
      "Deviation from orthonormality: 2.17748772305352e-15\n",
      "Deviation from orthonormality: 2.1833098018575343e-15\n",
      "Deviation from orthonormality: 2.156515373194608e-15\n",
      "Deviation from orthonormality: 1.6748908808080369e-15\n",
      "Deviation from orthonormality: 2.334929352547945e-15\n",
      "Deviation from orthonormality: 2.226110253132455e-15\n",
      "Deviation from orthonormality: 1.908344357437588e-15\n",
      "Deviation from orthonormality: 2.0479234508506872e-15\n",
      "Deviation from orthonormality: 2.35921380899995e-15\n",
      "Deviation from orthonormality: 2.3454002040488402e-15\n",
      "Deviation from orthonormality: 1.861611658082752e-15\n",
      "Deviation from orthonormality: 2.1477603897990684e-15\n",
      "Deviation from orthonormality: 1.9514507450969298e-15\n",
      "Deviation from orthonormality: 1.9488583770608488e-15\n",
      "Deviation from orthonormality: 1.9091938558045047e-15\n",
      "Deviation from orthonormality: 2.4286278814749373e-15\n",
      "Deviation from orthonormality: 1.8002918670341476e-15\n",
      "Deviation from orthonormality: 2.1077990863012117e-15\n",
      "Deviation from orthonormality: 2.2132723186043033e-15\n",
      "Deviation from orthonormality: 2.202678883646748e-15\n",
      "Deviation from orthonormality: 2.214801866598002e-15\n",
      "Deviation from orthonormality: 2.111471715670047e-15\n",
      "Deviation from orthonormality: 2.1484807606927966e-15\n",
      "Deviation from orthonormality: 2.2405210892590373e-15\n",
      "Deviation from orthonormality: 2.1950843317950607e-15\n",
      "Deviation from orthonormality: 1.883423761039554e-15\n",
      "Deviation from orthonormality: 2.334357819386665e-15\n"
     ]
    }
   ],
   "source": [
    "for Q in stiefel_matrices:\n",
    "    diff = np.linalg.norm(Q.T @ Q - np.eye(Q.shape[1]))\n",
    "    print(\"Deviation from orthonormality:\", diff)"
   ]
  },
  {
   "cell_type": "code",
   "execution_count": 35,
   "metadata": {},
   "outputs": [],
   "source": [
    "stiefel_matrices = project_to_stiefel(transposed_data)\n"
   ]
  },
  {
   "cell_type": "code",
   "execution_count": 36,
   "metadata": {},
   "outputs": [
    {
     "name": "stderr",
     "output_type": "stream",
     "text": [
      "c:\\Users\\Lenovo\\AppData\\Local\\Programs\\Python\\Python312\\Lib\\site-packages\\geomstats\\geometry\\stiefel.py:589: UserWarning: `log` hasn't converged.\n",
      "  warnings.warn(\"`log` hasn't converged.\")\n"
     ]
    }
   ],
   "source": [
    "# Step 4: Compute Fréchet mean\n",
    "frechet_mean = FrechetMean(space=stiefel_manifold)\n",
    "frechet_mean.fit(stiefel_matrices)\n",
    "base_point = frechet_mean.estimate_\n"
   ]
  },
  {
   "cell_type": "code",
   "execution_count": 37,
   "metadata": {},
   "outputs": [],
   "source": [
    "# Step 5: Transition to tangent space\n",
    "tangent_space_data = []\n",
    "for matrix in stiefel_matrices:\n",
    "    tangent_vector = stiefel_manifold.metric.log(point=matrix, base_point=base_point)\n",
    "    tangent_vector = np.real(tangent_vector)\n",
    "    tangent_space_data.append(tangent_vector)"
   ]
  },
  {
   "cell_type": "code",
   "execution_count": 38,
   "metadata": {},
   "outputs": [],
   "source": [
    "tangent_space_data = np.array(tangent_space_data)"
   ]
  },
  {
   "cell_type": "code",
   "execution_count": 39,
   "metadata": {},
   "outputs": [
    {
     "name": "stdout",
     "output_type": "stream",
     "text": [
      "Original data shape: (300, 64, 795)\n",
      "Transposed data shape: (300, 795, 28)\n",
      "Stiefel manifold data shape: (300, 795, 28)\n",
      "Tangent space data shape: (300, 795, 28)\n"
     ]
    }
   ],
   "source": [
    "# Output shapes\n",
    "print(\"Original data shape:\", trials.shape)\n",
    "print(\"Transposed data shape:\", transposed_data.shape)\n",
    "print(\"Stiefel manifold data shape:\", stiefel_matrices.shape)\n",
    "print(\"Tangent space data shape:\", tangent_space_data.shape)"
   ]
  },
  {
   "cell_type": "code",
   "execution_count": 40,
   "metadata": {},
   "outputs": [],
   "source": [
    "feature_vector=tangent_space_data.reshape(300,28,795)"
   ]
  },
  {
   "cell_type": "code",
   "execution_count": 41,
   "metadata": {},
   "outputs": [
    {
     "data": {
      "text/plain": [
       "(300, 5)"
      ]
     },
     "execution_count": 41,
     "metadata": {},
     "output_type": "execute_result"
    }
   ],
   "source": [
    "labels_train.shape"
   ]
  },
  {
   "cell_type": "code",
   "execution_count": 43,
   "metadata": {},
   "outputs": [],
   "source": [
    "labelHello=0\n",
    "labelHelpme=1\n",
    "labelstop=2\n",
    "labelthankyou=3\n",
    "labelyes=4\n",
    "data_hello=[]\n",
    "data_Helpme=[]\n",
    "data_Stop=[]\n",
    "data_Thankyou=[]\n",
    "data_Yes=[]\n",
    "\n",
    "label_Hello=[]\n",
    "label_Helpme=[]\n",
    "label_Stop=[]\n",
    "label_Thankyou=[]\n",
    "label_Yes=[]"
   ]
  },
  {
   "cell_type": "code",
   "execution_count": 44,
   "metadata": {},
   "outputs": [],
   "source": [
    "labelHello=0\n",
    "labelHelpme=1\n",
    "labelstop=2\n",
    "labelthankyou=3\n",
    "labelyes=4"
   ]
  },
  {
   "cell_type": "code",
   "execution_count": 45,
   "metadata": {},
   "outputs": [],
   "source": [
    "classes1={'Hello':0,'Helpme':1,'Stop':2,'Thankyou':3,'Yes':4}"
   ]
  },
  {
   "cell_type": "code",
   "execution_count": 46,
   "metadata": {},
   "outputs": [
    {
     "data": {
      "text/plain": [
       "(300, 5)"
      ]
     },
     "execution_count": 46,
     "metadata": {},
     "output_type": "execute_result"
    }
   ],
   "source": [
    "labels_train.shape"
   ]
  },
  {
   "cell_type": "code",
   "execution_count": 47,
   "metadata": {},
   "outputs": [
    {
     "data": {
      "text/plain": [
       "(300,)"
      ]
     },
     "execution_count": 47,
     "metadata": {},
     "output_type": "execute_result"
    }
   ],
   "source": [
    "label_train.shape"
   ]
  },
  {
   "cell_type": "code",
   "execution_count": 48,
   "metadata": {},
   "outputs": [],
   "source": [
    "for i in range(len(tangent_space_data)):\n",
    "   \n",
    "    if  label_train[i]==classes1['Hello']:\n",
    "        data_hello.append(tangent_space_data[i,:])\n",
    "        label_Hello.append(np.array(labelHello))\n",
    "    elif label_train[i]==classes1['Helpme']:\n",
    "         data_Helpme.append(tangent_space_data[i,:])\n",
    "         label_Helpme.append(np.array(labelHelpme))\n",
    "    elif label_train[i]==classes1['Stop']:\n",
    "         data_Stop.append(tangent_space_data[i,:])\n",
    "         label_Stop.append(np.array(labelstop))\n",
    "    elif label_train[i]==classes1['Thankyou']:\n",
    "         data_Thankyou.append(tangent_space_data[i,:])\n",
    "         label_Thankyou.append(np.array(labelthankyou))\n",
    "    elif label_train[i]==classes1['Yes']:\n",
    "         data_Yes.append(tangent_space_data[i,:])\n",
    "         label_Yes.append(np.array(labelyes))\n",
    "         \n",
    "\n",
    "#print(data_hello.shape)  \n",
    "#print(label_Hello.shape) \n",
    "#print(data_Helpme.shape)  \n",
    "#print(label_Helpme.shape) \n",
    "#print(data_Stop.shape)  \n",
    "#print(label_Stop.shape) \n",
    "#print(data_Thankyou.shape)  \n",
    "#print(label_Thankyou.shape) \n",
    "#print(data_Yes.shape)  \n",
    "#print(label_Yes.shape)   \n",
    "    "
   ]
  },
  {
   "cell_type": "code",
   "execution_count": 49,
   "metadata": {},
   "outputs": [],
   "source": [
    "data_hello = np.array(data_hello)\n",
    "label_Hello = np.array(label_Hello)\n",
    "\n",
    "data_Helpme = np.array(data_Helpme)\n",
    "label_Helpme = np.array(label_Helpme)\n",
    "\n",
    "data_Stop = np.array(data_Stop)\n",
    "label_Stop = np.array(label_Stop)\n",
    "\n",
    "data_Thankyou = np.array(data_Thankyou)\n",
    "label_Thankyou = np.array(label_Thankyou)\n",
    "\n",
    "data_Yes = np.array(data_Yes)\n",
    "label_Yes = np.array(label_Yes)    "
   ]
  },
  {
   "cell_type": "code",
   "execution_count": 50,
   "metadata": {},
   "outputs": [
    {
     "data": {
      "text/plain": [
       "(60, 795, 28)"
      ]
     },
     "execution_count": 50,
     "metadata": {},
     "output_type": "execute_result"
    }
   ],
   "source": [
    "data_Stop.shape"
   ]
  },
  {
   "cell_type": "code",
   "execution_count": 51,
   "metadata": {},
   "outputs": [],
   "source": [
    "data_hello_delta=data_hello.reshape(795*60,28)"
   ]
  },
  {
   "cell_type": "code",
   "execution_count": 52,
   "metadata": {},
   "outputs": [],
   "source": [
    "data_Helpme_delta=data_Helpme.reshape(795*60,28)"
   ]
  },
  {
   "cell_type": "code",
   "execution_count": 53,
   "metadata": {},
   "outputs": [],
   "source": [
    "data_Stop_delta=data_Stop.reshape(795*60,28)"
   ]
  },
  {
   "cell_type": "code",
   "execution_count": 54,
   "metadata": {},
   "outputs": [],
   "source": [
    "data_Thankyou_delta=data_Thankyou.reshape(795*60,28)"
   ]
  },
  {
   "cell_type": "code",
   "execution_count": 55,
   "metadata": {},
   "outputs": [],
   "source": [
    "data_Yes_delta=data_Yes.reshape(795*60,28)"
   ]
  },
  {
   "cell_type": "code",
   "execution_count": 56,
   "metadata": {},
   "outputs": [],
   "source": [
    "import pandas as pd\n",
    "import numpy as np\n",
    "\n",
    "\n",
    "\n",
    "# List of 15 channels\n",
    "Selectedchannels= ['FC1', 'P3', 'FC3', 'PO9', 'PO10', 'Cz', 'POz', 'PO8', 'CPz', 'FC4', 'C6', 'CP3', 'P7', 'P5', 'P6', 'CP6', 'C1', 'TP8', 'PO7', 'T8', 'CP2', 'F1', 'P2', 'PO4', 'Fp1', 'FC5', 'O1', 'C3']\n",
    "# Create a DataFrame with the array and the channel names as column headers\n",
    "df = pd.DataFrame(data_hello_delta, columns=Selectedchannels)\n",
    "\n",
    "# Save the DataFrame to a CSV file\n",
    "df.to_csv('data1_hello_delta.csv', index=False)"
   ]
  },
  {
   "cell_type": "code",
   "execution_count": 57,
   "metadata": {},
   "outputs": [],
   "source": [
    "# Create a DataFrame with the array and the channel names as column headers\n",
    "df = pd.DataFrame(data_Helpme_delta, columns=Selectedchannels)\n",
    "\n",
    "# Save the DataFrame to a CSV file\n",
    "df.to_csv('data1_helpme_delta.csv', index=False)\n"
   ]
  },
  {
   "cell_type": "code",
   "execution_count": 58,
   "metadata": {},
   "outputs": [],
   "source": [
    "# Create a DataFrame with the array and the channel names as column headers\n",
    "df = pd.DataFrame(data_Stop_delta, columns=Selectedchannels)\n",
    "\n",
    "# Save the DataFrame to a CSV file\n",
    "df.to_csv('data1_stop_delta.csv', index=False)\n"
   ]
  },
  {
   "cell_type": "code",
   "execution_count": 59,
   "metadata": {},
   "outputs": [],
   "source": [
    "# Create a DataFrame with the array and the channel names as column headers\n",
    "df = pd.DataFrame(data_Thankyou_delta, columns=Selectedchannels)\n",
    "\n",
    "# Save the DataFrame to a CSV file\n",
    "df.to_csv('data1_thankyou_delta.csv', index=False)\n"
   ]
  },
  {
   "cell_type": "code",
   "execution_count": 60,
   "metadata": {},
   "outputs": [],
   "source": [
    "# Create a DataFrame with the array and the channel names as column headers\n",
    "df = pd.DataFrame(data_Yes_delta, columns=Selectedchannels)\n",
    "\n",
    "# Save the DataFrame to a CSV file\n",
    "df.to_csv('data1_yes_delta.csv', index=False)\n"
   ]
  }
 ],
 "metadata": {
  "kernelspec": {
   "display_name": "Python 3 (ipykernel)",
   "language": "python",
   "name": "python3"
  },
  "language_info": {
   "codemirror_mode": {
    "name": "ipython",
    "version": 3
   },
   "file_extension": ".py",
   "mimetype": "text/x-python",
   "name": "python",
   "nbconvert_exporter": "python",
   "pygments_lexer": "ipython3",
   "version": "3.9.19"
  }
 },
 "nbformat": 4,
 "nbformat_minor": 4
}
